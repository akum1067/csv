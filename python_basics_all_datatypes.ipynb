{
  "cells": [
    {
      "cell_type": "markdown",
      "metadata": {},
      "source": "# Python Basics \u2014 Built-in Data Types, Methods & Built-in Functions (with Examples)\n\n*Auto-generated on* **2025-09-15**  \nPython runtime used to generate: **3.12.7**\n\nThis notebook demonstrates **(nearly) every** public method for Python's built-in data types and **every built-in function**, with each example in its **own separate cell**.  \n> Target: Python 3.x\n\n**Sections**\n1. Numbers (int, bool, float, complex)\n2. Text (`str`)\n3. Sequences (`list`, `tuple`, `range`)\n4. Sets (`set`, `frozenset`)\n5. Mappings (`dict`)\n6. Binary Types (`bytes`, `bytearray`, `memoryview`)\n7. Slice objects (`slice`)\n8. `None` and identity checks\n9. Built-in Functions (A\u2013Z)\n\n> *Note:* Method availability can vary slightly by Python version. Each example uses simple values to show typical behavior.\n"
    },
    {
      "cell_type": "markdown",
      "metadata": {},
      "source": "## Setup: Sample Values Used in Examples\n"
    },
    {
      "cell_type": "code",
      "metadata": {},
      "execution_count": null,
      "outputs": [],
      "source": "# Numbers\ni = 123\nn = -42\nb_true = True\nb_false = False\nf = 3.14159\nc = 1 + 2j\n\n# Text\ns = \"Hello, World!\"\ns2 = \"  hello\tworld\n\"\n\n# Sequences\nlst = [1, 2, 3]\ntpl = (1, 2, 3)\nrng = range(0, 10, 2)\n\n# Sets\nst = {1, 2, 3}\nfs = frozenset({1, 2, 3})\n\n# Mapping\nd = {\"a\": 1, \"b\": 2}\n\n# Binary\nby = b\"Hello World\"\nba = bytearray(b\"Hello World\")\n\n# Memoryview\nmv = memoryview(b\"XYZ123\")\n\n# Slice\nsl = slice(1, 10, 2)\n"
    },
    {
      "cell_type": "markdown",
      "metadata": {},
      "source": "# 1) Numbers \u2014 int, bool, float, complex\n"
    },
    {
      "cell_type": "markdown",
      "metadata": {},
      "source": "### `int` methods & examples\n"
    },
    {
      "cell_type": "markdown",
      "metadata": {},
      "source": "**int.bit_length**\n"
    },
    {
      "cell_type": "code",
      "metadata": {},
      "execution_count": null,
      "outputs": [],
      "source": "i = 123\ni.bit_length()\n"
    },
    {
      "cell_type": "markdown",
      "metadata": {},
      "source": "**int.bit_count**\n"
    },
    {
      "cell_type": "code",
      "metadata": {},
      "execution_count": null,
      "outputs": [],
      "source": "i = 123\ni.bit_count()  # number of ones in binary representation (Python 3.8+)\n"
    },
    {
      "cell_type": "markdown",
      "metadata": {},
      "source": "**int.to_bytes**\n"
    },
    {
      "cell_type": "code",
      "metadata": {},
      "execution_count": null,
      "outputs": [],
      "source": "i = 123\ni.to_bytes(2, byteorder='big', signed=False)\n"
    },
    {
      "cell_type": "markdown",
      "metadata": {},
      "source": "**int.from_bytes (classmethod)**\n"
    },
    {
      "cell_type": "code",
      "metadata": {},
      "execution_count": null,
      "outputs": [],
      "source": "i = 123\nint.from_bytes(b'\\x00{', byteorder='big', signed=False)\n"
    },
    {
      "cell_type": "markdown",
      "metadata": {},
      "source": "**int.conjugate**\n"
    },
    {
      "cell_type": "code",
      "metadata": {},
      "execution_count": null,
      "outputs": [],
      "source": "i = 123\ni.conjugate()\n"
    },
    {
      "cell_type": "markdown",
      "metadata": {},
      "source": "**int.real**\n"
    },
    {
      "cell_type": "code",
      "metadata": {},
      "execution_count": null,
      "outputs": [],
      "source": "i = 123\ni.real\n"
    },
    {
      "cell_type": "markdown",
      "metadata": {},
      "source": "**int.imag**\n"
    },
    {
      "cell_type": "code",
      "metadata": {},
      "execution_count": null,
      "outputs": [],
      "source": "i = 123\ni.imag\n"
    },
    {
      "cell_type": "markdown",
      "metadata": {},
      "source": "### `bool` (inherits from `int`) \u2014 examples\n"
    },
    {
      "cell_type": "markdown",
      "metadata": {},
      "source": "**bool \u2014 logical_and**\n"
    },
    {
      "cell_type": "code",
      "metadata": {},
      "execution_count": null,
      "outputs": [],
      "source": "b_true and b_false\n"
    },
    {
      "cell_type": "markdown",
      "metadata": {},
      "source": "**bool \u2014 logical_or**\n"
    },
    {
      "cell_type": "code",
      "metadata": {},
      "execution_count": null,
      "outputs": [],
      "source": "b_true or b_false\n"
    },
    {
      "cell_type": "markdown",
      "metadata": {},
      "source": "**bool \u2014 logical_not**\n"
    },
    {
      "cell_type": "code",
      "metadata": {},
      "execution_count": null,
      "outputs": [],
      "source": "not b_true\n"
    },
    {
      "cell_type": "markdown",
      "metadata": {},
      "source": "**bool \u2014 as_int**\n"
    },
    {
      "cell_type": "code",
      "metadata": {},
      "execution_count": null,
      "outputs": [],
      "source": "int(b_true), int(b_false)\n"
    },
    {
      "cell_type": "markdown",
      "metadata": {},
      "source": "### `float` methods & examples\n"
    },
    {
      "cell_type": "markdown",
      "metadata": {},
      "source": "**float.as_integer_ratio**\n"
    },
    {
      "cell_type": "code",
      "metadata": {},
      "execution_count": null,
      "outputs": [],
      "source": "f.as_integer_ratio()\n"
    },
    {
      "cell_type": "markdown",
      "metadata": {},
      "source": "**float.is_integer**\n"
    },
    {
      "cell_type": "code",
      "metadata": {},
      "execution_count": null,
      "outputs": [],
      "source": "f.is_integer()\n"
    },
    {
      "cell_type": "markdown",
      "metadata": {},
      "source": "**float.hex**\n"
    },
    {
      "cell_type": "code",
      "metadata": {},
      "execution_count": null,
      "outputs": [],
      "source": "f.hex()\n"
    },
    {
      "cell_type": "markdown",
      "metadata": {},
      "source": "**float.fromhex (classmethod)**\n"
    },
    {
      "cell_type": "code",
      "metadata": {},
      "execution_count": null,
      "outputs": [],
      "source": "float.fromhex('0x1.921f9f01b866ep+1')\n"
    },
    {
      "cell_type": "markdown",
      "metadata": {},
      "source": "**float.conjugate**\n"
    },
    {
      "cell_type": "code",
      "metadata": {},
      "execution_count": null,
      "outputs": [],
      "source": "f.conjugate()\n"
    },
    {
      "cell_type": "markdown",
      "metadata": {},
      "source": "**float.real**\n"
    },
    {
      "cell_type": "code",
      "metadata": {},
      "execution_count": null,
      "outputs": [],
      "source": "f.real\n"
    },
    {
      "cell_type": "markdown",
      "metadata": {},
      "source": "**float.imag**\n"
    },
    {
      "cell_type": "code",
      "metadata": {},
      "execution_count": null,
      "outputs": [],
      "source": "f.imag\n"
    },
    {
      "cell_type": "markdown",
      "metadata": {},
      "source": "### `complex` methods & attributes\n"
    },
    {
      "cell_type": "markdown",
      "metadata": {},
      "source": "**complex.conjugate**\n"
    },
    {
      "cell_type": "code",
      "metadata": {},
      "execution_count": null,
      "outputs": [],
      "source": "c.conjugate()\n"
    },
    {
      "cell_type": "markdown",
      "metadata": {},
      "source": "**complex.real**\n"
    },
    {
      "cell_type": "code",
      "metadata": {},
      "execution_count": null,
      "outputs": [],
      "source": "c.real\n"
    },
    {
      "cell_type": "markdown",
      "metadata": {},
      "source": "**complex.imag**\n"
    },
    {
      "cell_type": "code",
      "metadata": {},
      "execution_count": null,
      "outputs": [],
      "source": "c.imag\n"
    },
    {
      "cell_type": "markdown",
      "metadata": {},
      "source": "# 2) Text \u2014 `str` type methods\n"
    },
    {
      "cell_type": "markdown",
      "metadata": {},
      "source": "**str.capitalize**\n"
    },
    {
      "cell_type": "code",
      "metadata": {},
      "execution_count": null,
      "outputs": [],
      "source": "s.capitalize()\n"
    },
    {
      "cell_type": "markdown",
      "metadata": {},
      "source": "**str.casefold**\n"
    },
    {
      "cell_type": "code",
      "metadata": {},
      "execution_count": null,
      "outputs": [],
      "source": "s.casefold()\n"
    },
    {
      "cell_type": "markdown",
      "metadata": {},
      "source": "**str.center**\n"
    },
    {
      "cell_type": "code",
      "metadata": {},
      "execution_count": null,
      "outputs": [],
      "source": "s.center(20, '-')\n"
    },
    {
      "cell_type": "markdown",
      "metadata": {},
      "source": "**str.count**\n"
    },
    {
      "cell_type": "code",
      "metadata": {},
      "execution_count": null,
      "outputs": [],
      "source": "s.count('l')\n"
    },
    {
      "cell_type": "markdown",
      "metadata": {},
      "source": "**str.encode**\n"
    },
    {
      "cell_type": "code",
      "metadata": {},
      "execution_count": null,
      "outputs": [],
      "source": "s.encode()  # UTF-8 by default\n"
    },
    {
      "cell_type": "markdown",
      "metadata": {},
      "source": "**str.endswith**\n"
    },
    {
      "cell_type": "code",
      "metadata": {},
      "execution_count": null,
      "outputs": [],
      "source": "s.endswith('!')\n"
    },
    {
      "cell_type": "markdown",
      "metadata": {},
      "source": "**str.expandtabs**\n"
    },
    {
      "cell_type": "code",
      "metadata": {},
      "execution_count": null,
      "outputs": [],
      "source": "s2.expandtabs(4)\n"
    },
    {
      "cell_type": "markdown",
      "metadata": {},
      "source": "**str.find**\n"
    },
    {
      "cell_type": "code",
      "metadata": {},
      "execution_count": null,
      "outputs": [],
      "source": "s.find('World')\n"
    },
    {
      "cell_type": "markdown",
      "metadata": {},
      "source": "**str.format**\n"
    },
    {
      "cell_type": "code",
      "metadata": {},
      "execution_count": null,
      "outputs": [],
      "source": "'{x} + {y} = {z}'.format(x=2, y=3, z=5)\n"
    },
    {
      "cell_type": "markdown",
      "metadata": {},
      "source": "**str.format_map**\n"
    },
    {
      "cell_type": "code",
      "metadata": {},
      "execution_count": null,
      "outputs": [],
      "source": "'{x}'.format_map({'x': 42})\n"
    },
    {
      "cell_type": "markdown",
      "metadata": {},
      "source": "**str.index**\n"
    },
    {
      "cell_type": "code",
      "metadata": {},
      "execution_count": null,
      "outputs": [],
      "source": "s.index('World')\n"
    },
    {
      "cell_type": "markdown",
      "metadata": {},
      "source": "**str.isalnum**\n"
    },
    {
      "cell_type": "code",
      "metadata": {},
      "execution_count": null,
      "outputs": [],
      "source": "'abc123'.isalnum()\n"
    },
    {
      "cell_type": "markdown",
      "metadata": {},
      "source": "**str.isalpha**\n"
    },
    {
      "cell_type": "code",
      "metadata": {},
      "execution_count": null,
      "outputs": [],
      "source": "'abc'.isalpha()\n"
    },
    {
      "cell_type": "markdown",
      "metadata": {},
      "source": "**str.isascii**\n"
    },
    {
      "cell_type": "code",
      "metadata": {},
      "execution_count": null,
      "outputs": [],
      "source": "'abc'.isascii()\n"
    },
    {
      "cell_type": "markdown",
      "metadata": {},
      "source": "**str.isdecimal**\n"
    },
    {
      "cell_type": "code",
      "metadata": {},
      "execution_count": null,
      "outputs": [],
      "source": "'123'.isdecimal()\n"
    },
    {
      "cell_type": "markdown",
      "metadata": {},
      "source": "**str.isdigit**\n"
    },
    {
      "cell_type": "code",
      "metadata": {},
      "execution_count": null,
      "outputs": [],
      "source": "'123'.isdigit()\n"
    },
    {
      "cell_type": "markdown",
      "metadata": {},
      "source": "**str.isidentifier**\n"
    },
    {
      "cell_type": "code",
      "metadata": {},
      "execution_count": null,
      "outputs": [],
      "source": "'variable_name'.isidentifier()\n"
    },
    {
      "cell_type": "markdown",
      "metadata": {},
      "source": "**str.islower**\n"
    },
    {
      "cell_type": "code",
      "metadata": {},
      "execution_count": null,
      "outputs": [],
      "source": "'hello'.islower()\n"
    },
    {
      "cell_type": "markdown",
      "metadata": {},
      "source": "**str.isnumeric**\n"
    },
    {
      "cell_type": "code",
      "metadata": {},
      "execution_count": null,
      "outputs": [],
      "source": "'\u216b'.isnumeric()\n"
    },
    {
      "cell_type": "markdown",
      "metadata": {},
      "source": "**str.isprintable**\n"
    },
    {
      "cell_type": "code",
      "metadata": {},
      "execution_count": null,
      "outputs": [],
      "source": "'Hello\\n'.isprintable()\n"
    },
    {
      "cell_type": "markdown",
      "metadata": {},
      "source": "**str.isspace**\n"
    },
    {
      "cell_type": "code",
      "metadata": {},
      "execution_count": null,
      "outputs": [],
      "source": "'   '.isspace()\n"
    },
    {
      "cell_type": "markdown",
      "metadata": {},
      "source": "**str.istitle**\n"
    },
    {
      "cell_type": "code",
      "metadata": {},
      "execution_count": null,
      "outputs": [],
      "source": "'Hello World'.istitle()\n"
    },
    {
      "cell_type": "markdown",
      "metadata": {},
      "source": "**str.isupper**\n"
    },
    {
      "cell_type": "code",
      "metadata": {},
      "execution_count": null,
      "outputs": [],
      "source": "'HELLO'.isupper()\n"
    },
    {
      "cell_type": "markdown",
      "metadata": {},
      "source": "**str.join**\n"
    },
    {
      "cell_type": "code",
      "metadata": {},
      "execution_count": null,
      "outputs": [],
      "source": "'-'.join(['a','b','c'])\n"
    },
    {
      "cell_type": "markdown",
      "metadata": {},
      "source": "**str.ljust**\n"
    },
    {
      "cell_type": "code",
      "metadata": {},
      "execution_count": null,
      "outputs": [],
      "source": "'hi'.ljust(5, '.')\n"
    },
    {
      "cell_type": "markdown",
      "metadata": {},
      "source": "**str.lower**\n"
    },
    {
      "cell_type": "code",
      "metadata": {},
      "execution_count": null,
      "outputs": [],
      "source": "s.lower()\n"
    },
    {
      "cell_type": "markdown",
      "metadata": {},
      "source": "**str.lstrip**\n"
    },
    {
      "cell_type": "code",
      "metadata": {},
      "execution_count": null,
      "outputs": [],
      "source": "s2.lstrip()\n"
    },
    {
      "cell_type": "markdown",
      "metadata": {},
      "source": "**str.maketrans**\n"
    },
    {
      "cell_type": "code",
      "metadata": {},
      "execution_count": null,
      "outputs": [],
      "source": "str.maketrans({'H':'J','W':'V'})\n"
    },
    {
      "cell_type": "markdown",
      "metadata": {},
      "source": "**str.partition**\n"
    },
    {
      "cell_type": "code",
      "metadata": {},
      "execution_count": null,
      "outputs": [],
      "source": "s.partition(',')\n"
    },
    {
      "cell_type": "markdown",
      "metadata": {},
      "source": "**str.removeprefix**\n"
    },
    {
      "cell_type": "code",
      "metadata": {},
      "execution_count": null,
      "outputs": [],
      "source": "'unittest'.removeprefix('unit')\n"
    },
    {
      "cell_type": "markdown",
      "metadata": {},
      "source": "**str.removesuffix**\n"
    },
    {
      "cell_type": "code",
      "metadata": {},
      "execution_count": null,
      "outputs": [],
      "source": "'filename.txt'.removesuffix('.txt')\n"
    },
    {
      "cell_type": "markdown",
      "metadata": {},
      "source": "**str.replace**\n"
    },
    {
      "cell_type": "code",
      "metadata": {},
      "execution_count": null,
      "outputs": [],
      "source": "s.replace('World', 'Python')\n"
    },
    {
      "cell_type": "markdown",
      "metadata": {},
      "source": "**str.rfind**\n"
    },
    {
      "cell_type": "code",
      "metadata": {},
      "execution_count": null,
      "outputs": [],
      "source": "s.rfind('l')\n"
    },
    {
      "cell_type": "markdown",
      "metadata": {},
      "source": "**str.rindex**\n"
    },
    {
      "cell_type": "code",
      "metadata": {},
      "execution_count": null,
      "outputs": [],
      "source": "s.rindex('l')\n"
    },
    {
      "cell_type": "markdown",
      "metadata": {},
      "source": "**str.rjust**\n"
    },
    {
      "cell_type": "code",
      "metadata": {},
      "execution_count": null,
      "outputs": [],
      "source": "'hi'.rjust(5, '.')\n"
    },
    {
      "cell_type": "markdown",
      "metadata": {},
      "source": "**str.rpartition**\n"
    },
    {
      "cell_type": "code",
      "metadata": {},
      "execution_count": null,
      "outputs": [],
      "source": "'a=b=c'.rpartition('=')\n"
    },
    {
      "cell_type": "markdown",
      "metadata": {},
      "source": "**str.rsplit**\n"
    },
    {
      "cell_type": "code",
      "metadata": {},
      "execution_count": null,
      "outputs": [],
      "source": "'a,b,c'.rsplit(',', 1)\n"
    },
    {
      "cell_type": "markdown",
      "metadata": {},
      "source": "**str.rstrip**\n"
    },
    {
      "cell_type": "code",
      "metadata": {},
      "execution_count": null,
      "outputs": [],
      "source": "s2.rstrip()\n"
    },
    {
      "cell_type": "markdown",
      "metadata": {},
      "source": "**str.split**\n"
    },
    {
      "cell_type": "code",
      "metadata": {},
      "execution_count": null,
      "outputs": [],
      "source": "'a,b,c'.split(',')\n"
    },
    {
      "cell_type": "markdown",
      "metadata": {},
      "source": "**str.splitlines**\n"
    },
    {
      "cell_type": "code",
      "metadata": {},
      "execution_count": null,
      "outputs": [],
      "source": "'line1\\nline2'.splitlines()\n"
    },
    {
      "cell_type": "markdown",
      "metadata": {},
      "source": "**str.startswith**\n"
    },
    {
      "cell_type": "code",
      "metadata": {},
      "execution_count": null,
      "outputs": [],
      "source": "s.startswith('Hello')\n"
    },
    {
      "cell_type": "markdown",
      "metadata": {},
      "source": "**str.strip**\n"
    },
    {
      "cell_type": "code",
      "metadata": {},
      "execution_count": null,
      "outputs": [],
      "source": "s2.strip()\n"
    },
    {
      "cell_type": "markdown",
      "metadata": {},
      "source": "**str.swapcase**\n"
    },
    {
      "cell_type": "code",
      "metadata": {},
      "execution_count": null,
      "outputs": [],
      "source": "'AbC'.swapcase()\n"
    },
    {
      "cell_type": "markdown",
      "metadata": {},
      "source": "**str.title**\n"
    },
    {
      "cell_type": "code",
      "metadata": {},
      "execution_count": null,
      "outputs": [],
      "source": "'hello world'.title()\n"
    },
    {
      "cell_type": "markdown",
      "metadata": {},
      "source": "**str.translate**\n"
    },
    {
      "cell_type": "code",
      "metadata": {},
      "execution_count": null,
      "outputs": [],
      "source": "s.translate(str.maketrans({'H':'J','W':'V'}))\n"
    },
    {
      "cell_type": "markdown",
      "metadata": {},
      "source": "**str.upper**\n"
    },
    {
      "cell_type": "code",
      "metadata": {},
      "execution_count": null,
      "outputs": [],
      "source": "s.upper()\n"
    },
    {
      "cell_type": "markdown",
      "metadata": {},
      "source": "**str.zfill**\n"
    },
    {
      "cell_type": "code",
      "metadata": {},
      "execution_count": null,
      "outputs": [],
      "source": "'42'.zfill(5)\n"
    },
    {
      "cell_type": "markdown",
      "metadata": {},
      "source": "# 3) Sequences \u2014 `list`, `tuple`, `range`\n"
    },
    {
      "cell_type": "markdown",
      "metadata": {},
      "source": "### `list` methods\n"
    },
    {
      "cell_type": "markdown",
      "metadata": {},
      "source": "**list.append**\n"
    },
    {
      "cell_type": "code",
      "metadata": {},
      "execution_count": null,
      "outputs": [],
      "source": "lst2 = [1,2,3]; lst2.append(4); lst2\n"
    },
    {
      "cell_type": "markdown",
      "metadata": {},
      "source": "**list.clear**\n"
    },
    {
      "cell_type": "code",
      "metadata": {},
      "execution_count": null,
      "outputs": [],
      "source": "lst2 = [1,2,3]; lst2.clear(); lst2\n"
    },
    {
      "cell_type": "markdown",
      "metadata": {},
      "source": "**list.copy**\n"
    },
    {
      "cell_type": "code",
      "metadata": {},
      "execution_count": null,
      "outputs": [],
      "source": "lst.copy()\n"
    },
    {
      "cell_type": "markdown",
      "metadata": {},
      "source": "**list.count**\n"
    },
    {
      "cell_type": "code",
      "metadata": {},
      "execution_count": null,
      "outputs": [],
      "source": "[1,2,2,3].count(2)\n"
    },
    {
      "cell_type": "markdown",
      "metadata": {},
      "source": "**list.extend**\n"
    },
    {
      "cell_type": "code",
      "metadata": {},
      "execution_count": null,
      "outputs": [],
      "source": "lst2 = [1]; lst2.extend([2,3]); lst2\n"
    },
    {
      "cell_type": "markdown",
      "metadata": {},
      "source": "**list.index**\n"
    },
    {
      "cell_type": "code",
      "metadata": {},
      "execution_count": null,
      "outputs": [],
      "source": "[10,20,30,20].index(20, 1)\n"
    },
    {
      "cell_type": "markdown",
      "metadata": {},
      "source": "**list.insert**\n"
    },
    {
      "cell_type": "code",
      "metadata": {},
      "execution_count": null,
      "outputs": [],
      "source": "lst2 = [1,3]; lst2.insert(1, 2); lst2\n"
    },
    {
      "cell_type": "markdown",
      "metadata": {},
      "source": "**list.pop**\n"
    },
    {
      "cell_type": "code",
      "metadata": {},
      "execution_count": null,
      "outputs": [],
      "source": "lst2 = [1,2,3]; lst2.pop(); lst2\n"
    },
    {
      "cell_type": "markdown",
      "metadata": {},
      "source": "**list.remove**\n"
    },
    {
      "cell_type": "code",
      "metadata": {},
      "execution_count": null,
      "outputs": [],
      "source": "lst2 = [1,2,3,2]; lst2.remove(2); lst2\n"
    },
    {
      "cell_type": "markdown",
      "metadata": {},
      "source": "**list.reverse**\n"
    },
    {
      "cell_type": "code",
      "metadata": {},
      "execution_count": null,
      "outputs": [],
      "source": "lst2 = [1,2,3]; lst2.reverse(); lst2\n"
    },
    {
      "cell_type": "markdown",
      "metadata": {},
      "source": "**list.sort**\n"
    },
    {
      "cell_type": "code",
      "metadata": {},
      "execution_count": null,
      "outputs": [],
      "source": "lst2 = [3,1,2]; lst2.sort(); lst2\n"
    },
    {
      "cell_type": "markdown",
      "metadata": {},
      "source": "### `tuple` methods\n"
    },
    {
      "cell_type": "markdown",
      "metadata": {},
      "source": "**tuple.count**\n"
    },
    {
      "cell_type": "code",
      "metadata": {},
      "execution_count": null,
      "outputs": [],
      "source": "(1,2,2,3).count(2)\n"
    },
    {
      "cell_type": "markdown",
      "metadata": {},
      "source": "**tuple.index**\n"
    },
    {
      "cell_type": "code",
      "metadata": {},
      "execution_count": null,
      "outputs": [],
      "source": "(10,20,30,20).index(20, 1)\n"
    },
    {
      "cell_type": "markdown",
      "metadata": {},
      "source": "### `range` methods & attributes\n"
    },
    {
      "cell_type": "markdown",
      "metadata": {},
      "source": "**range \u2014 iteration**\n"
    },
    {
      "cell_type": "code",
      "metadata": {},
      "execution_count": null,
      "outputs": [],
      "source": "list(range(0, 6, 2))\n"
    },
    {
      "cell_type": "markdown",
      "metadata": {},
      "source": "**range \u2014 count**\n"
    },
    {
      "cell_type": "code",
      "metadata": {},
      "execution_count": null,
      "outputs": [],
      "source": "range(0,10,2).count(4)\n"
    },
    {
      "cell_type": "markdown",
      "metadata": {},
      "source": "**range \u2014 index**\n"
    },
    {
      "cell_type": "code",
      "metadata": {},
      "execution_count": null,
      "outputs": [],
      "source": "range(0,10,2).index(4)\n"
    },
    {
      "cell_type": "markdown",
      "metadata": {},
      "source": "**range \u2014 attributes**\n"
    },
    {
      "cell_type": "code",
      "metadata": {},
      "execution_count": null,
      "outputs": [],
      "source": "rng.start, rng.stop, rng.step\n"
    },
    {
      "cell_type": "markdown",
      "metadata": {},
      "source": "# 4) Sets \u2014 `set` and `frozenset`\n"
    },
    {
      "cell_type": "markdown",
      "metadata": {},
      "source": "### `set` methods\n"
    },
    {
      "cell_type": "markdown",
      "metadata": {},
      "source": "**set.add**\n"
    },
    {
      "cell_type": "code",
      "metadata": {},
      "execution_count": null,
      "outputs": [],
      "source": "s3 = {1,2}; s3.add(3); s3\n"
    },
    {
      "cell_type": "markdown",
      "metadata": {},
      "source": "**set.clear**\n"
    },
    {
      "cell_type": "code",
      "metadata": {},
      "execution_count": null,
      "outputs": [],
      "source": "s3 = {1,2}; s3.clear(); s3\n"
    },
    {
      "cell_type": "markdown",
      "metadata": {},
      "source": "**set.copy**\n"
    },
    {
      "cell_type": "code",
      "metadata": {},
      "execution_count": null,
      "outputs": [],
      "source": "st.copy()\n"
    },
    {
      "cell_type": "markdown",
      "metadata": {},
      "source": "**set.difference**\n"
    },
    {
      "cell_type": "code",
      "metadata": {},
      "execution_count": null,
      "outputs": [],
      "source": "{1,2,3}.difference({2,4})\n"
    },
    {
      "cell_type": "markdown",
      "metadata": {},
      "source": "**set.difference_update**\n"
    },
    {
      "cell_type": "code",
      "metadata": {},
      "execution_count": null,
      "outputs": [],
      "source": "s3 = {1,2,3}; s3.difference_update({2}); s3\n"
    },
    {
      "cell_type": "markdown",
      "metadata": {},
      "source": "**set.discard**\n"
    },
    {
      "cell_type": "code",
      "metadata": {},
      "execution_count": null,
      "outputs": [],
      "source": "s3 = {1,2,3}; s3.discard(2); s3\n"
    },
    {
      "cell_type": "markdown",
      "metadata": {},
      "source": "**set.intersection**\n"
    },
    {
      "cell_type": "code",
      "metadata": {},
      "execution_count": null,
      "outputs": [],
      "source": "{1,2,3}.intersection({2,3,4})\n"
    },
    {
      "cell_type": "markdown",
      "metadata": {},
      "source": "**set.intersection_update**\n"
    },
    {
      "cell_type": "code",
      "metadata": {},
      "execution_count": null,
      "outputs": [],
      "source": "s3 = {1,2,3}; s3.intersection_update({2,3}); s3\n"
    },
    {
      "cell_type": "markdown",
      "metadata": {},
      "source": "**set.isdisjoint**\n"
    },
    {
      "cell_type": "code",
      "metadata": {},
      "execution_count": null,
      "outputs": [],
      "source": "{1,2}.isdisjoint({3,4})\n"
    },
    {
      "cell_type": "markdown",
      "metadata": {},
      "source": "**set.issubset**\n"
    },
    {
      "cell_type": "code",
      "metadata": {},
      "execution_count": null,
      "outputs": [],
      "source": "{1,2}.issubset({1,2,3})\n"
    },
    {
      "cell_type": "markdown",
      "metadata": {},
      "source": "**set.issuperset**\n"
    },
    {
      "cell_type": "code",
      "metadata": {},
      "execution_count": null,
      "outputs": [],
      "source": "{1,2,3}.issuperset({1,2})\n"
    },
    {
      "cell_type": "markdown",
      "metadata": {},
      "source": "**set.pop**\n"
    },
    {
      "cell_type": "code",
      "metadata": {},
      "execution_count": null,
      "outputs": [],
      "source": "s3 = {10,20}; x = s3.pop(); (x, s3)\n"
    },
    {
      "cell_type": "markdown",
      "metadata": {},
      "source": "**set.remove**\n"
    },
    {
      "cell_type": "code",
      "metadata": {},
      "execution_count": null,
      "outputs": [],
      "source": "s3 = {1,2,3}; s3.remove(2); s3\n"
    },
    {
      "cell_type": "markdown",
      "metadata": {},
      "source": "**set.symmetric_difference**\n"
    },
    {
      "cell_type": "code",
      "metadata": {},
      "execution_count": null,
      "outputs": [],
      "source": "{1,2,3}.symmetric_difference({3,4})\n"
    },
    {
      "cell_type": "markdown",
      "metadata": {},
      "source": "**set.symmetric_difference_update**\n"
    },
    {
      "cell_type": "code",
      "metadata": {},
      "execution_count": null,
      "outputs": [],
      "source": "s3 = {1,2,3}; s3.symmetric_difference_update({3,4}); s3\n"
    },
    {
      "cell_type": "markdown",
      "metadata": {},
      "source": "**set.union**\n"
    },
    {
      "cell_type": "code",
      "metadata": {},
      "execution_count": null,
      "outputs": [],
      "source": "{1,2}.union({2,3})\n"
    },
    {
      "cell_type": "markdown",
      "metadata": {},
      "source": "**set.update**\n"
    },
    {
      "cell_type": "code",
      "metadata": {},
      "execution_count": null,
      "outputs": [],
      "source": "s3 = {1}; s3.update({2,3}); s3\n"
    },
    {
      "cell_type": "markdown",
      "metadata": {},
      "source": "### `frozenset` methods\n"
    },
    {
      "cell_type": "markdown",
      "metadata": {},
      "source": "**frozenset.copy**\n"
    },
    {
      "cell_type": "code",
      "metadata": {},
      "execution_count": null,
      "outputs": [],
      "source": "fs.copy()\n"
    },
    {
      "cell_type": "markdown",
      "metadata": {},
      "source": "**frozenset.difference**\n"
    },
    {
      "cell_type": "code",
      "metadata": {},
      "execution_count": null,
      "outputs": [],
      "source": "fs.difference({2,4})\n"
    },
    {
      "cell_type": "markdown",
      "metadata": {},
      "source": "**frozenset.intersection**\n"
    },
    {
      "cell_type": "code",
      "metadata": {},
      "execution_count": null,
      "outputs": [],
      "source": "fs.intersection({2,3,4})\n"
    },
    {
      "cell_type": "markdown",
      "metadata": {},
      "source": "**frozenset.isdisjoint**\n"
    },
    {
      "cell_type": "code",
      "metadata": {},
      "execution_count": null,
      "outputs": [],
      "source": "fs.isdisjoint({4,5})\n"
    },
    {
      "cell_type": "markdown",
      "metadata": {},
      "source": "**frozenset.issubset**\n"
    },
    {
      "cell_type": "code",
      "metadata": {},
      "execution_count": null,
      "outputs": [],
      "source": "fs.issubset({1,2,3,4})\n"
    },
    {
      "cell_type": "markdown",
      "metadata": {},
      "source": "**frozenset.issuperset**\n"
    },
    {
      "cell_type": "code",
      "metadata": {},
      "execution_count": null,
      "outputs": [],
      "source": "fs.issuperset({1,2})\n"
    },
    {
      "cell_type": "markdown",
      "metadata": {},
      "source": "**frozenset.symmetric_difference**\n"
    },
    {
      "cell_type": "code",
      "metadata": {},
      "execution_count": null,
      "outputs": [],
      "source": "fs.symmetric_difference({3,4})\n"
    },
    {
      "cell_type": "markdown",
      "metadata": {},
      "source": "**frozenset.union**\n"
    },
    {
      "cell_type": "code",
      "metadata": {},
      "execution_count": null,
      "outputs": [],
      "source": "fs.union({4,5})\n"
    },
    {
      "cell_type": "markdown",
      "metadata": {},
      "source": "# 5) Mappings \u2014 `dict` methods\n"
    },
    {
      "cell_type": "markdown",
      "metadata": {},
      "source": "**dict.clear**\n"
    },
    {
      "cell_type": "code",
      "metadata": {},
      "execution_count": null,
      "outputs": [],
      "source": "d2 = {'x':1,'y':2}; d2.clear(); d2\n"
    },
    {
      "cell_type": "markdown",
      "metadata": {},
      "source": "**dict.copy**\n"
    },
    {
      "cell_type": "code",
      "metadata": {},
      "execution_count": null,
      "outputs": [],
      "source": "d.copy()\n"
    },
    {
      "cell_type": "markdown",
      "metadata": {},
      "source": "**dict.fromkeys (classmethod)**\n"
    },
    {
      "cell_type": "code",
      "metadata": {},
      "execution_count": null,
      "outputs": [],
      "source": "dict.fromkeys(['a','b'], 0)\n"
    },
    {
      "cell_type": "markdown",
      "metadata": {},
      "source": "**dict.get**\n"
    },
    {
      "cell_type": "code",
      "metadata": {},
      "execution_count": null,
      "outputs": [],
      "source": "d.get('a'), d.get('z', 99)\n"
    },
    {
      "cell_type": "markdown",
      "metadata": {},
      "source": "**dict.items**\n"
    },
    {
      "cell_type": "code",
      "metadata": {},
      "execution_count": null,
      "outputs": [],
      "source": "list(d.items())\n"
    },
    {
      "cell_type": "markdown",
      "metadata": {},
      "source": "**dict.keys**\n"
    },
    {
      "cell_type": "code",
      "metadata": {},
      "execution_count": null,
      "outputs": [],
      "source": "list(d.keys())\n"
    },
    {
      "cell_type": "markdown",
      "metadata": {},
      "source": "**dict.pop**\n"
    },
    {
      "cell_type": "code",
      "metadata": {},
      "execution_count": null,
      "outputs": [],
      "source": "d2 = {'a':1,'b':2}; d2.pop('a'); d2\n"
    },
    {
      "cell_type": "markdown",
      "metadata": {},
      "source": "**dict.popitem**\n"
    },
    {
      "cell_type": "code",
      "metadata": {},
      "execution_count": null,
      "outputs": [],
      "source": "d2 = {'a':1,'b':2}; item = d2.popitem(); (item, d2)\n"
    },
    {
      "cell_type": "markdown",
      "metadata": {},
      "source": "**dict.setdefault**\n"
    },
    {
      "cell_type": "code",
      "metadata": {},
      "execution_count": null,
      "outputs": [],
      "source": "d2 = {}; d2.setdefault('k', 10); d2\n"
    },
    {
      "cell_type": "markdown",
      "metadata": {},
      "source": "**dict.update**\n"
    },
    {
      "cell_type": "code",
      "metadata": {},
      "execution_count": null,
      "outputs": [],
      "source": "d2 = {'a':1}; d2.update({'b':2}); d2\n"
    },
    {
      "cell_type": "markdown",
      "metadata": {},
      "source": "**dict.values**\n"
    },
    {
      "cell_type": "code",
      "metadata": {},
      "execution_count": null,
      "outputs": [],
      "source": "list(d.values())\n"
    },
    {
      "cell_type": "markdown",
      "metadata": {},
      "source": "# 6) Binary Types \u2014 `bytes`, `bytearray`, `memoryview`\n"
    },
    {
      "cell_type": "markdown",
      "metadata": {},
      "source": "### `bytes` methods\n"
    },
    {
      "cell_type": "markdown",
      "metadata": {},
      "source": "**bytes.capitalize**\n"
    },
    {
      "cell_type": "code",
      "metadata": {},
      "execution_count": null,
      "outputs": [],
      "source": "by.capitalize()\n"
    },
    {
      "cell_type": "markdown",
      "metadata": {},
      "source": "**bytes.center**\n"
    },
    {
      "cell_type": "code",
      "metadata": {},
      "execution_count": null,
      "outputs": [],
      "source": "by.center(15, b'-')\n"
    },
    {
      "cell_type": "markdown",
      "metadata": {},
      "source": "**bytes.count**\n"
    },
    {
      "cell_type": "code",
      "metadata": {},
      "execution_count": null,
      "outputs": [],
      "source": "by.count(b'l')\n"
    },
    {
      "cell_type": "markdown",
      "metadata": {},
      "source": "**bytes.decode**\n"
    },
    {
      "cell_type": "code",
      "metadata": {},
      "execution_count": null,
      "outputs": [],
      "source": "by.decode('utf-8')\n"
    },
    {
      "cell_type": "markdown",
      "metadata": {},
      "source": "**bytes.endswith**\n"
    },
    {
      "cell_type": "code",
      "metadata": {},
      "execution_count": null,
      "outputs": [],
      "source": "by.endswith(b'World')\n"
    },
    {
      "cell_type": "markdown",
      "metadata": {},
      "source": "**bytes.expandtabs**\n"
    },
    {
      "cell_type": "code",
      "metadata": {},
      "execution_count": null,
      "outputs": [],
      "source": "b'A\tB'.expandtabs(4)\n"
    },
    {
      "cell_type": "markdown",
      "metadata": {},
      "source": "**bytes.find**\n"
    },
    {
      "cell_type": "code",
      "metadata": {},
      "execution_count": null,
      "outputs": [],
      "source": "by.find(b'World')\n"
    },
    {
      "cell_type": "markdown",
      "metadata": {},
      "source": "**bytes.fromhex (classmethod)**\n"
    },
    {
      "cell_type": "code",
      "metadata": {},
      "execution_count": null,
      "outputs": [],
      "source": "bytes.fromhex('48656c6c6f')\n"
    },
    {
      "cell_type": "markdown",
      "metadata": {},
      "source": "**bytes.hex**\n"
    },
    {
      "cell_type": "code",
      "metadata": {},
      "execution_count": null,
      "outputs": [],
      "source": "by.hex()\n"
    },
    {
      "cell_type": "markdown",
      "metadata": {},
      "source": "**bytes.index**\n"
    },
    {
      "cell_type": "code",
      "metadata": {},
      "execution_count": null,
      "outputs": [],
      "source": "by.index(b'o')\n"
    },
    {
      "cell_type": "markdown",
      "metadata": {},
      "source": "**bytes.isalnum**\n"
    },
    {
      "cell_type": "code",
      "metadata": {},
      "execution_count": null,
      "outputs": [],
      "source": "b'abc123'.isalnum()\n"
    },
    {
      "cell_type": "markdown",
      "metadata": {},
      "source": "**bytes.isalpha**\n"
    },
    {
      "cell_type": "code",
      "metadata": {},
      "execution_count": null,
      "outputs": [],
      "source": "b'abc'.isalpha()\n"
    },
    {
      "cell_type": "markdown",
      "metadata": {},
      "source": "**bytes.isascii**\n"
    },
    {
      "cell_type": "code",
      "metadata": {},
      "execution_count": null,
      "outputs": [],
      "source": "b'abc'.isascii()\n"
    },
    {
      "cell_type": "markdown",
      "metadata": {},
      "source": "**bytes.isdigit**\n"
    },
    {
      "cell_type": "code",
      "metadata": {},
      "execution_count": null,
      "outputs": [],
      "source": "b'123'.isdigit()\n"
    },
    {
      "cell_type": "markdown",
      "metadata": {},
      "source": "**bytes.islower**\n"
    },
    {
      "cell_type": "code",
      "metadata": {},
      "execution_count": null,
      "outputs": [],
      "source": "b'abc'.islower()\n"
    },
    {
      "cell_type": "markdown",
      "metadata": {},
      "source": "**bytes.isspace**\n"
    },
    {
      "cell_type": "code",
      "metadata": {},
      "execution_count": null,
      "outputs": [],
      "source": "b'   '.isspace()\n"
    },
    {
      "cell_type": "markdown",
      "metadata": {},
      "source": "**bytes.istitle**\n"
    },
    {
      "cell_type": "code",
      "metadata": {},
      "execution_count": null,
      "outputs": [],
      "source": "b'Hello World'.istitle()\n"
    },
    {
      "cell_type": "markdown",
      "metadata": {},
      "source": "**bytes.isupper**\n"
    },
    {
      "cell_type": "code",
      "metadata": {},
      "execution_count": null,
      "outputs": [],
      "source": "b'ABC'.isupper()\n"
    },
    {
      "cell_type": "markdown",
      "metadata": {},
      "source": "**bytes.join**\n"
    },
    {
      "cell_type": "code",
      "metadata": {},
      "execution_count": null,
      "outputs": [],
      "source": "b'-'.join([b'a', b'b', b'c'])\n"
    },
    {
      "cell_type": "markdown",
      "metadata": {},
      "source": "**bytes.ljust**\n"
    },
    {
      "cell_type": "code",
      "metadata": {},
      "execution_count": null,
      "outputs": [],
      "source": "b'hi'.ljust(5, b'.')\n"
    },
    {
      "cell_type": "markdown",
      "metadata": {},
      "source": "**bytes.lower**\n"
    },
    {
      "cell_type": "code",
      "metadata": {},
      "execution_count": null,
      "outputs": [],
      "source": "by.lower()\n"
    },
    {
      "cell_type": "markdown",
      "metadata": {},
      "source": "**bytes.lstrip**\n"
    },
    {
      "cell_type": "code",
      "metadata": {},
      "execution_count": null,
      "outputs": [],
      "source": "b'  hi'.lstrip()\n"
    },
    {
      "cell_type": "markdown",
      "metadata": {},
      "source": "**bytes.partition**\n"
    },
    {
      "cell_type": "code",
      "metadata": {},
      "execution_count": null,
      "outputs": [],
      "source": "by.partition(b' ')\n"
    },
    {
      "cell_type": "markdown",
      "metadata": {},
      "source": "**bytes.removeprefix**\n"
    },
    {
      "cell_type": "code",
      "metadata": {},
      "execution_count": null,
      "outputs": [],
      "source": "b'foobar'.removeprefix(b'foo')\n"
    },
    {
      "cell_type": "markdown",
      "metadata": {},
      "source": "**bytes.removesuffix**\n"
    },
    {
      "cell_type": "code",
      "metadata": {},
      "execution_count": null,
      "outputs": [],
      "source": "b'file.txt'.removesuffix(b'.txt')\n"
    },
    {
      "cell_type": "markdown",
      "metadata": {},
      "source": "**bytes.replace**\n"
    },
    {
      "cell_type": "code",
      "metadata": {},
      "execution_count": null,
      "outputs": [],
      "source": "by.replace(b'World', b'Bytes')\n"
    },
    {
      "cell_type": "markdown",
      "metadata": {},
      "source": "**bytes.rfind**\n"
    },
    {
      "cell_type": "code",
      "metadata": {},
      "execution_count": null,
      "outputs": [],
      "source": "by.rfind(b'l')\n"
    },
    {
      "cell_type": "markdown",
      "metadata": {},
      "source": "**bytes.rindex**\n"
    },
    {
      "cell_type": "code",
      "metadata": {},
      "execution_count": null,
      "outputs": [],
      "source": "by.rindex(b'l')\n"
    },
    {
      "cell_type": "markdown",
      "metadata": {},
      "source": "**bytes.rjust**\n"
    },
    {
      "cell_type": "code",
      "metadata": {},
      "execution_count": null,
      "outputs": [],
      "source": "b'hi'.rjust(5, b'.')\n"
    },
    {
      "cell_type": "markdown",
      "metadata": {},
      "source": "**bytes.rpartition**\n"
    },
    {
      "cell_type": "code",
      "metadata": {},
      "execution_count": null,
      "outputs": [],
      "source": "b'a=b=c'.rpartition(b'=')\n"
    },
    {
      "cell_type": "markdown",
      "metadata": {},
      "source": "**bytes.rsplit**\n"
    },
    {
      "cell_type": "code",
      "metadata": {},
      "execution_count": null,
      "outputs": [],
      "source": "b'a,b,c'.rsplit(b',', 1)\n"
    },
    {
      "cell_type": "markdown",
      "metadata": {},
      "source": "**bytes.rstrip**\n"
    },
    {
      "cell_type": "code",
      "metadata": {},
      "execution_count": null,
      "outputs": [],
      "source": "b'hi   '.rstrip()\n"
    },
    {
      "cell_type": "markdown",
      "metadata": {},
      "source": "**bytes.split**\n"
    },
    {
      "cell_type": "code",
      "metadata": {},
      "execution_count": null,
      "outputs": [],
      "source": "b'a,b,c'.split(b',')\n"
    },
    {
      "cell_type": "markdown",
      "metadata": {},
      "source": "**bytes.splitlines**\n"
    },
    {
      "cell_type": "code",
      "metadata": {},
      "execution_count": null,
      "outputs": [],
      "source": "b'line1\nline2'.splitlines()\n"
    },
    {
      "cell_type": "markdown",
      "metadata": {},
      "source": "**bytes.startswith**\n"
    },
    {
      "cell_type": "code",
      "metadata": {},
      "execution_count": null,
      "outputs": [],
      "source": "by.startswith(b'Hello')\n"
    },
    {
      "cell_type": "markdown",
      "metadata": {},
      "source": "**bytes.strip**\n"
    },
    {
      "cell_type": "code",
      "metadata": {},
      "execution_count": null,
      "outputs": [],
      "source": "b'  hi  '.strip()\n"
    },
    {
      "cell_type": "markdown",
      "metadata": {},
      "source": "**bytes.swapcase**\n"
    },
    {
      "cell_type": "code",
      "metadata": {},
      "execution_count": null,
      "outputs": [],
      "source": "b'AbC'.swapcase()\n"
    },
    {
      "cell_type": "markdown",
      "metadata": {},
      "source": "**bytes.title**\n"
    },
    {
      "cell_type": "code",
      "metadata": {},
      "execution_count": null,
      "outputs": [],
      "source": "b'hello world'.title()\n"
    },
    {
      "cell_type": "markdown",
      "metadata": {},
      "source": "**bytes.translate**\n"
    },
    {
      "cell_type": "code",
      "metadata": {},
      "execution_count": null,
      "outputs": [],
      "source": "b'abc'.translate(bytes.maketrans(b'ab', b'xy'))\n"
    },
    {
      "cell_type": "markdown",
      "metadata": {},
      "source": "**bytes.upper**\n"
    },
    {
      "cell_type": "code",
      "metadata": {},
      "execution_count": null,
      "outputs": [],
      "source": "by.upper()\n"
    },
    {
      "cell_type": "markdown",
      "metadata": {},
      "source": "**bytes.zfill**\n"
    },
    {
      "cell_type": "code",
      "metadata": {},
      "execution_count": null,
      "outputs": [],
      "source": "b'42'.zfill(5)\n"
    },
    {
      "cell_type": "markdown",
      "metadata": {},
      "source": "### `bytearray` methods\n"
    },
    {
      "cell_type": "markdown",
      "metadata": {},
      "source": "**bytearray.append**\n"
    },
    {
      "cell_type": "code",
      "metadata": {},
      "execution_count": null,
      "outputs": [],
      "source": "ba2 = bytearray(b'AB'); ba2.append(67); ba2  # 67 == 'C'\n"
    },
    {
      "cell_type": "markdown",
      "metadata": {},
      "source": "**bytearray.capitalize**\n"
    },
    {
      "cell_type": "code",
      "metadata": {},
      "execution_count": null,
      "outputs": [],
      "source": "bytearray(b'hello').capitalize()\n"
    },
    {
      "cell_type": "markdown",
      "metadata": {},
      "source": "**bytearray.center**\n"
    },
    {
      "cell_type": "code",
      "metadata": {},
      "execution_count": null,
      "outputs": [],
      "source": "bytearray(b'hi').center(6, b'.')\n"
    },
    {
      "cell_type": "markdown",
      "metadata": {},
      "source": "**bytearray.clear**\n"
    },
    {
      "cell_type": "code",
      "metadata": {},
      "execution_count": null,
      "outputs": [],
      "source": "ba2 = bytearray(b'abc'); ba2.clear(); ba2\n"
    },
    {
      "cell_type": "markdown",
      "metadata": {},
      "source": "**bytearray.copy**\n"
    },
    {
      "cell_type": "code",
      "metadata": {},
      "execution_count": null,
      "outputs": [],
      "source": "ba.copy()\n"
    },
    {
      "cell_type": "markdown",
      "metadata": {},
      "source": "**bytearray.count**\n"
    },
    {
      "cell_type": "code",
      "metadata": {},
      "execution_count": null,
      "outputs": [],
      "source": "bytearray(b'hello').count(b'l')\n"
    },
    {
      "cell_type": "markdown",
      "metadata": {},
      "source": "**bytearray.decode**\n"
    },
    {
      "cell_type": "code",
      "metadata": {},
      "execution_count": null,
      "outputs": [],
      "source": "ba.decode('utf-8')\n"
    },
    {
      "cell_type": "markdown",
      "metadata": {},
      "source": "**bytearray.endswith**\n"
    },
    {
      "cell_type": "code",
      "metadata": {},
      "execution_count": null,
      "outputs": [],
      "source": "ba.endswith(b'World')\n"
    },
    {
      "cell_type": "markdown",
      "metadata": {},
      "source": "**bytearray.extend**\n"
    },
    {
      "cell_type": "code",
      "metadata": {},
      "execution_count": null,
      "outputs": [],
      "source": "ba2 = bytearray(b'a'); ba2.extend(b'bc'); ba2\n"
    },
    {
      "cell_type": "markdown",
      "metadata": {},
      "source": "**bytearray.find**\n"
    },
    {
      "cell_type": "code",
      "metadata": {},
      "execution_count": null,
      "outputs": [],
      "source": "ba.find(b'World')\n"
    },
    {
      "cell_type": "markdown",
      "metadata": {},
      "source": "**bytearray.fromhex (classmethod)**\n"
    },
    {
      "cell_type": "code",
      "metadata": {},
      "execution_count": null,
      "outputs": [],
      "source": "bytearray.fromhex('414243')\n"
    },
    {
      "cell_type": "markdown",
      "metadata": {},
      "source": "**bytearray.hex**\n"
    },
    {
      "cell_type": "code",
      "metadata": {},
      "execution_count": null,
      "outputs": [],
      "source": "ba.hex()\n"
    },
    {
      "cell_type": "markdown",
      "metadata": {},
      "source": "**bytearray.index**\n"
    },
    {
      "cell_type": "code",
      "metadata": {},
      "execution_count": null,
      "outputs": [],
      "source": "ba.index(b'o')\n"
    },
    {
      "cell_type": "markdown",
      "metadata": {},
      "source": "**bytearray.insert**\n"
    },
    {
      "cell_type": "code",
      "metadata": {},
      "execution_count": null,
      "outputs": [],
      "source": "ba2 = bytearray(b'ac'); ba2.insert(1, ord('b')); ba2\n"
    },
    {
      "cell_type": "markdown",
      "metadata": {},
      "source": "**bytearray.isalnum**\n"
    },
    {
      "cell_type": "code",
      "metadata": {},
      "execution_count": null,
      "outputs": [],
      "source": "bytearray(b'abc123').isalnum()\n"
    },
    {
      "cell_type": "markdown",
      "metadata": {},
      "source": "**bytearray.isalpha**\n"
    },
    {
      "cell_type": "code",
      "metadata": {},
      "execution_count": null,
      "outputs": [],
      "source": "bytearray(b'abc').isalpha()\n"
    },
    {
      "cell_type": "markdown",
      "metadata": {},
      "source": "**bytearray.isascii**\n"
    },
    {
      "cell_type": "code",
      "metadata": {},
      "execution_count": null,
      "outputs": [],
      "source": "bytearray(b'abc').isascii()\n"
    },
    {
      "cell_type": "markdown",
      "metadata": {},
      "source": "**bytearray.isdigit**\n"
    },
    {
      "cell_type": "code",
      "metadata": {},
      "execution_count": null,
      "outputs": [],
      "source": "bytearray(b'123').isdigit()\n"
    },
    {
      "cell_type": "markdown",
      "metadata": {},
      "source": "**bytearray.islower**\n"
    },
    {
      "cell_type": "code",
      "metadata": {},
      "execution_count": null,
      "outputs": [],
      "source": "bytearray(b'abc').islower()\n"
    },
    {
      "cell_type": "markdown",
      "metadata": {},
      "source": "**bytearray.isspace**\n"
    },
    {
      "cell_type": "code",
      "metadata": {},
      "execution_count": null,
      "outputs": [],
      "source": "bytearray(b'   ').isspace()\n"
    },
    {
      "cell_type": "markdown",
      "metadata": {},
      "source": "**bytearray.istitle**\n"
    },
    {
      "cell_type": "code",
      "metadata": {},
      "execution_count": null,
      "outputs": [],
      "source": "bytearray(b'Hello World').istitle()\n"
    },
    {
      "cell_type": "markdown",
      "metadata": {},
      "source": "**bytearray.isupper**\n"
    },
    {
      "cell_type": "code",
      "metadata": {},
      "execution_count": null,
      "outputs": [],
      "source": "bytearray(b'ABC').isupper()\n"
    },
    {
      "cell_type": "markdown",
      "metadata": {},
      "source": "**bytearray.join**\n"
    },
    {
      "cell_type": "code",
      "metadata": {},
      "execution_count": null,
      "outputs": [],
      "source": "b'-'.join([bytearray(b'a'), bytearray(b'b')])\n"
    },
    {
      "cell_type": "markdown",
      "metadata": {},
      "source": "**bytearray.ljust**\n"
    },
    {
      "cell_type": "code",
      "metadata": {},
      "execution_count": null,
      "outputs": [],
      "source": "bytearray(b'hi').ljust(5, b'.')\n"
    },
    {
      "cell_type": "markdown",
      "metadata": {},
      "source": "**bytearray.lower**\n"
    },
    {
      "cell_type": "code",
      "metadata": {},
      "execution_count": null,
      "outputs": [],
      "source": "bytearray(b'HeLLo').lower()\n"
    },
    {
      "cell_type": "markdown",
      "metadata": {},
      "source": "**bytearray.lstrip**\n"
    },
    {
      "cell_type": "code",
      "metadata": {},
      "execution_count": null,
      "outputs": [],
      "source": "bytearray(b'  hi').lstrip()\n"
    },
    {
      "cell_type": "markdown",
      "metadata": {},
      "source": "**bytearray.partition**\n"
    },
    {
      "cell_type": "code",
      "metadata": {},
      "execution_count": null,
      "outputs": [],
      "source": "bytearray(b'Hello World').partition(b' ')\n"
    },
    {
      "cell_type": "markdown",
      "metadata": {},
      "source": "**bytearray.pop**\n"
    },
    {
      "cell_type": "code",
      "metadata": {},
      "execution_count": null,
      "outputs": [],
      "source": "ba2 = bytearray(b'abc'); x = ba2.pop(); (x, ba2)\n"
    },
    {
      "cell_type": "markdown",
      "metadata": {},
      "source": "**bytearray.remove**\n"
    },
    {
      "cell_type": "code",
      "metadata": {},
      "execution_count": null,
      "outputs": [],
      "source": "ba2 = bytearray(b'abca'); ba2.remove(ord('a')); ba2\n"
    },
    {
      "cell_type": "markdown",
      "metadata": {},
      "source": "**bytearray.removeprefix**\n"
    },
    {
      "cell_type": "code",
      "metadata": {},
      "execution_count": null,
      "outputs": [],
      "source": "bytearray(b'foobar').removeprefix(b'foo')\n"
    },
    {
      "cell_type": "markdown",
      "metadata": {},
      "source": "**bytearray.removesuffix**\n"
    },
    {
      "cell_type": "code",
      "metadata": {},
      "execution_count": null,
      "outputs": [],
      "source": "bytearray(b'file.txt').removesuffix(b'.txt')\n"
    },
    {
      "cell_type": "markdown",
      "metadata": {},
      "source": "**bytearray.replace**\n"
    },
    {
      "cell_type": "code",
      "metadata": {},
      "execution_count": null,
      "outputs": [],
      "source": "bytearray(b'Hello').replace(b'H', b'J')\n"
    },
    {
      "cell_type": "markdown",
      "metadata": {},
      "source": "**bytearray.reverse**\n"
    },
    {
      "cell_type": "code",
      "metadata": {},
      "execution_count": null,
      "outputs": [],
      "source": "ba2 = bytearray(b'abc'); ba2.reverse(); ba2\n"
    },
    {
      "cell_type": "markdown",
      "metadata": {},
      "source": "**bytearray.rfind**\n"
    },
    {
      "cell_type": "code",
      "metadata": {},
      "execution_count": null,
      "outputs": [],
      "source": "ba.rfind(b'l')\n"
    },
    {
      "cell_type": "markdown",
      "metadata": {},
      "source": "**bytearray.rindex**\n"
    },
    {
      "cell_type": "code",
      "metadata": {},
      "execution_count": null,
      "outputs": [],
      "source": "ba.rindex(b'l')\n"
    },
    {
      "cell_type": "markdown",
      "metadata": {},
      "source": "**bytearray.rjust**\n"
    },
    {
      "cell_type": "code",
      "metadata": {},
      "execution_count": null,
      "outputs": [],
      "source": "bytearray(b'hi').rjust(5, b'.')\n"
    },
    {
      "cell_type": "markdown",
      "metadata": {},
      "source": "**bytearray.rpartition**\n"
    },
    {
      "cell_type": "code",
      "metadata": {},
      "execution_count": null,
      "outputs": [],
      "source": "bytearray(b'a=b=c').rpartition(b'=')\n"
    },
    {
      "cell_type": "markdown",
      "metadata": {},
      "source": "**bytearray.rsplit**\n"
    },
    {
      "cell_type": "code",
      "metadata": {},
      "execution_count": null,
      "outputs": [],
      "source": "bytearray(b'a,b,c').rsplit(b',', 1)\n"
    },
    {
      "cell_type": "markdown",
      "metadata": {},
      "source": "**bytearray.rstrip**\n"
    },
    {
      "cell_type": "code",
      "metadata": {},
      "execution_count": null,
      "outputs": [],
      "source": "bytearray(b'hi   ').rstrip()\n"
    },
    {
      "cell_type": "markdown",
      "metadata": {},
      "source": "**bytearray.split**\n"
    },
    {
      "cell_type": "code",
      "metadata": {},
      "execution_count": null,
      "outputs": [],
      "source": "bytearray(b'a,b,c').split(b',')\n"
    },
    {
      "cell_type": "markdown",
      "metadata": {},
      "source": "**bytearray.splitlines**\n"
    },
    {
      "cell_type": "code",
      "metadata": {},
      "execution_count": null,
      "outputs": [],
      "source": "bytearray(b'line1\nline2').splitlines()\n"
    },
    {
      "cell_type": "markdown",
      "metadata": {},
      "source": "**bytearray.startswith**\n"
    },
    {
      "cell_type": "code",
      "metadata": {},
      "execution_count": null,
      "outputs": [],
      "source": "ba.startswith(b'Hello')\n"
    },
    {
      "cell_type": "markdown",
      "metadata": {},
      "source": "**bytearray.strip**\n"
    },
    {
      "cell_type": "code",
      "metadata": {},
      "execution_count": null,
      "outputs": [],
      "source": "bytearray(b'  hi  ').strip()\n"
    },
    {
      "cell_type": "markdown",
      "metadata": {},
      "source": "**bytearray.swapcase**\n"
    },
    {
      "cell_type": "code",
      "metadata": {},
      "execution_count": null,
      "outputs": [],
      "source": "bytearray(b'AbC').swapcase()\n"
    },
    {
      "cell_type": "markdown",
      "metadata": {},
      "source": "**bytearray.title**\n"
    },
    {
      "cell_type": "code",
      "metadata": {},
      "execution_count": null,
      "outputs": [],
      "source": "bytearray(b'hello world').title()\n"
    },
    {
      "cell_type": "markdown",
      "metadata": {},
      "source": "**bytearray.translate**\n"
    },
    {
      "cell_type": "code",
      "metadata": {},
      "execution_count": null,
      "outputs": [],
      "source": "bytearray(b'abc').translate(bytearray.maketrans(b'ab', b'xy'))\n"
    },
    {
      "cell_type": "markdown",
      "metadata": {},
      "source": "**bytearray.upper**\n"
    },
    {
      "cell_type": "code",
      "metadata": {},
      "execution_count": null,
      "outputs": [],
      "source": "bytearray(b'hello').upper()\n"
    },
    {
      "cell_type": "markdown",
      "metadata": {},
      "source": "**bytearray.zfill**\n"
    },
    {
      "cell_type": "code",
      "metadata": {},
      "execution_count": null,
      "outputs": [],
      "source": "bytearray(b'42').zfill(5)\n"
    },
    {
      "cell_type": "markdown",
      "metadata": {},
      "source": "### `memoryview` methods & attributes\n"
    },
    {
      "cell_type": "markdown",
      "metadata": {},
      "source": "**memoryview \u2014 tobytes**\n"
    },
    {
      "cell_type": "code",
      "metadata": {},
      "execution_count": null,
      "outputs": [],
      "source": "mv.tobytes()\n"
    },
    {
      "cell_type": "markdown",
      "metadata": {},
      "source": "**memoryview \u2014 tolist**\n"
    },
    {
      "cell_type": "code",
      "metadata": {},
      "execution_count": null,
      "outputs": [],
      "source": "mv.tolist()\n"
    },
    {
      "cell_type": "markdown",
      "metadata": {},
      "source": "**memoryview \u2014 cast**\n"
    },
    {
      "cell_type": "code",
      "metadata": {},
      "execution_count": null,
      "outputs": [],
      "source": "memoryview(b'ABCD').cast('H')  # 2-byte unsigned short view\n"
    },
    {
      "cell_type": "markdown",
      "metadata": {},
      "source": "**memoryview \u2014 release**\n"
    },
    {
      "cell_type": "code",
      "metadata": {},
      "execution_count": null,
      "outputs": [],
      "source": "mv2 = memoryview(b'OK'); mv2.release(); mv2  # released view\n"
    },
    {
      "cell_type": "markdown",
      "metadata": {},
      "source": "**memoryview \u2014 hex**\n"
    },
    {
      "cell_type": "code",
      "metadata": {},
      "execution_count": null,
      "outputs": [],
      "source": "memoryview(b'ABC').hex()\n"
    },
    {
      "cell_type": "markdown",
      "metadata": {},
      "source": "**memoryview \u2014 attributes**\n"
    },
    {
      "cell_type": "code",
      "metadata": {},
      "execution_count": null,
      "outputs": [],
      "source": "(mv.format, mv.itemsize, mv.ndim, mv.readonly, mv.nbytes)\n"
    },
    {
      "cell_type": "markdown",
      "metadata": {},
      "source": "# 7) `slice` objects \u2014 attributes & methods\n"
    },
    {
      "cell_type": "markdown",
      "metadata": {},
      "source": "**slice \u2014 attributes**\n"
    },
    {
      "cell_type": "code",
      "metadata": {},
      "execution_count": null,
      "outputs": [],
      "source": "(sl.start, sl.stop, sl.step)\n"
    },
    {
      "cell_type": "markdown",
      "metadata": {},
      "source": "**slice \u2014 indices**\n"
    },
    {
      "cell_type": "code",
      "metadata": {},
      "execution_count": null,
      "outputs": [],
      "source": "sl.indices(20)  # map to concrete (start, stop, step) for a sequence length\n"
    },
    {
      "cell_type": "markdown",
      "metadata": {},
      "source": "# 8) `None` \u2014 identity & checks\n"
    },
    {
      "cell_type": "code",
      "metadata": {},
      "execution_count": null,
      "outputs": [],
      "source": "x = None\nx is None, x == None  # 'is' is preferred for None checks\n"
    },
    {
      "cell_type": "markdown",
      "metadata": {},
      "source": "# 9) Built-in Functions \u2014 A to Z (one-cell examples)\n"
    },
    {
      "cell_type": "markdown",
      "metadata": {},
      "source": "**`__import__`**\n"
    },
    {
      "cell_type": "code",
      "metadata": {},
      "execution_count": null,
      "outputs": [],
      "source": "m = __import__('math'); hasattr(m, 'sqrt')\n"
    },
    {
      "cell_type": "markdown",
      "metadata": {},
      "source": "**`abs`**\n"
    },
    {
      "cell_type": "code",
      "metadata": {},
      "execution_count": null,
      "outputs": [],
      "source": "abs(-7.5)\n"
    },
    {
      "cell_type": "markdown",
      "metadata": {},
      "source": "**`aiter`**\n"
    },
    {
      "cell_type": "code",
      "metadata": {},
      "execution_count": null,
      "outputs": [],
      "source": "# async-only. Define a tiny async generator and async usage example.\n# To actually run it in a notebook, use: `await demo_aiter()` in a separate cell.\nasync def agen():\n    for i in range(3):\n        yield i\nasync def demo_aiter():\n    result = []\n    async for x in aiter(agen()):\n        result.append(x)\n    return result\n'defined'\n"
    },
    {
      "cell_type": "markdown",
      "metadata": {},
      "source": "**`all`**\n"
    },
    {
      "cell_type": "code",
      "metadata": {},
      "execution_count": null,
      "outputs": [],
      "source": "all([True, 1, 'x'])\n"
    },
    {
      "cell_type": "markdown",
      "metadata": {},
      "source": "**`anext`**\n"
    },
    {
      "cell_type": "code",
      "metadata": {},
      "execution_count": null,
      "outputs": [],
      "source": "# async-only. To run: `await anext(agen())` after defining an async generator.\nasync def agen2():\n    yield 10\n'defined'\n"
    },
    {
      "cell_type": "markdown",
      "metadata": {},
      "source": "**`any`**\n"
    },
    {
      "cell_type": "code",
      "metadata": {},
      "execution_count": null,
      "outputs": [],
      "source": "any([False, 0, 'x'])\n"
    },
    {
      "cell_type": "markdown",
      "metadata": {},
      "source": "**`ascii`**\n"
    },
    {
      "cell_type": "code",
      "metadata": {},
      "execution_count": null,
      "outputs": [],
      "source": "ascii('\u03bb')\n"
    },
    {
      "cell_type": "markdown",
      "metadata": {},
      "source": "**`bin`**\n"
    },
    {
      "cell_type": "code",
      "metadata": {},
      "execution_count": null,
      "outputs": [],
      "source": "bin(42)\n"
    },
    {
      "cell_type": "markdown",
      "metadata": {},
      "source": "**`bool`**\n"
    },
    {
      "cell_type": "code",
      "metadata": {},
      "execution_count": null,
      "outputs": [],
      "source": "bool(1), bool(0)\n"
    },
    {
      "cell_type": "markdown",
      "metadata": {},
      "source": "**`breakpoint`**\n"
    },
    {
      "cell_type": "code",
      "metadata": {},
      "execution_count": null,
      "outputs": [],
      "source": "# breakpoint() would drop into debugger; skipping here.\n'demonstration-skipped'\n"
    },
    {
      "cell_type": "markdown",
      "metadata": {},
      "source": "**`bytearray`**\n"
    },
    {
      "cell_type": "code",
      "metadata": {},
      "execution_count": null,
      "outputs": [],
      "source": "bytearray(b'ABC')\n"
    },
    {
      "cell_type": "markdown",
      "metadata": {},
      "source": "**`bytes`**\n"
    },
    {
      "cell_type": "code",
      "metadata": {},
      "execution_count": null,
      "outputs": [],
      "source": "bytes('Hi', 'utf-8')\n"
    },
    {
      "cell_type": "markdown",
      "metadata": {},
      "source": "**`callable`**\n"
    },
    {
      "cell_type": "code",
      "metadata": {},
      "execution_count": null,
      "outputs": [],
      "source": "callable(len), callable(123)\n"
    },
    {
      "cell_type": "markdown",
      "metadata": {},
      "source": "**`chr`**\n"
    },
    {
      "cell_type": "code",
      "metadata": {},
      "execution_count": null,
      "outputs": [],
      "source": "chr(9731)\n"
    },
    {
      "cell_type": "markdown",
      "metadata": {},
      "source": "**`classmethod`**\n"
    },
    {
      "cell_type": "code",
      "metadata": {},
      "execution_count": null,
      "outputs": [],
      "source": "class C:\n    @classmethod\n    def which(cls):\n        return cls.__name__\nC.which()\n"
    },
    {
      "cell_type": "markdown",
      "metadata": {},
      "source": "**`compile`**\n"
    },
    {
      "cell_type": "code",
      "metadata": {},
      "execution_count": null,
      "outputs": [],
      "source": "code_obj = compile('x=2+3\\nx', '<string>', 'exec'); ns = {}; exec(code_obj, ns); ns['x']\n"
    },
    {
      "cell_type": "markdown",
      "metadata": {},
      "source": "**`complex`**\n"
    },
    {
      "cell_type": "code",
      "metadata": {},
      "execution_count": null,
      "outputs": [],
      "source": "complex(2, 3)\n"
    },
    {
      "cell_type": "markdown",
      "metadata": {},
      "source": "**`delattr`**\n"
    },
    {
      "cell_type": "code",
      "metadata": {},
      "execution_count": null,
      "outputs": [],
      "source": "class X: pass\nx = X(); x.a = 10; delattr(x, 'a'); hasattr(x, 'a')\n"
    },
    {
      "cell_type": "markdown",
      "metadata": {},
      "source": "**`dict`**\n"
    },
    {
      "cell_type": "code",
      "metadata": {},
      "execution_count": null,
      "outputs": [],
      "source": "dict(a=1, b=2)\n"
    },
    {
      "cell_type": "markdown",
      "metadata": {},
      "source": "**`dir`**\n"
    },
    {
      "cell_type": "code",
      "metadata": {},
      "execution_count": null,
      "outputs": [],
      "source": "dir({'a':1})[:5]\n"
    },
    {
      "cell_type": "markdown",
      "metadata": {},
      "source": "**`divmod`**\n"
    },
    {
      "cell_type": "code",
      "metadata": {},
      "execution_count": null,
      "outputs": [],
      "source": "divmod(17, 5)\n"
    },
    {
      "cell_type": "markdown",
      "metadata": {},
      "source": "**`enumerate`**\n"
    },
    {
      "cell_type": "code",
      "metadata": {},
      "execution_count": null,
      "outputs": [],
      "source": "list(enumerate(['a','b'], start=1))\n"
    },
    {
      "cell_type": "markdown",
      "metadata": {},
      "source": "**`eval`**\n"
    },
    {
      "cell_type": "code",
      "metadata": {},
      "execution_count": null,
      "outputs": [],
      "source": "eval('2*3+1')\n"
    },
    {
      "cell_type": "markdown",
      "metadata": {},
      "source": "**`exec`**\n"
    },
    {
      "cell_type": "code",
      "metadata": {},
      "execution_count": null,
      "outputs": [],
      "source": "ns={}; exec('y=7'); 'y' in globals() or 'y' in ns\n"
    },
    {
      "cell_type": "markdown",
      "metadata": {},
      "source": "**`filter`**\n"
    },
    {
      "cell_type": "code",
      "metadata": {},
      "execution_count": null,
      "outputs": [],
      "source": "list(filter(lambda x: x%2==0, range(6)))\n"
    },
    {
      "cell_type": "markdown",
      "metadata": {},
      "source": "**`float`**\n"
    },
    {
      "cell_type": "code",
      "metadata": {},
      "execution_count": null,
      "outputs": [],
      "source": "float('3.14')\n"
    },
    {
      "cell_type": "markdown",
      "metadata": {},
      "source": "**`format`**\n"
    },
    {
      "cell_type": "code",
      "metadata": {},
      "execution_count": null,
      "outputs": [],
      "source": "format(255, '#04x')\n"
    },
    {
      "cell_type": "markdown",
      "metadata": {},
      "source": "**`frozenset`**\n"
    },
    {
      "cell_type": "code",
      "metadata": {},
      "execution_count": null,
      "outputs": [],
      "source": "frozenset({1,2,3})\n"
    },
    {
      "cell_type": "markdown",
      "metadata": {},
      "source": "**`getattr`**\n"
    },
    {
      "cell_type": "code",
      "metadata": {},
      "execution_count": null,
      "outputs": [],
      "source": "getattr('abc', 'upper')()\n"
    },
    {
      "cell_type": "markdown",
      "metadata": {},
      "source": "**`globals`**\n"
    },
    {
      "cell_type": "code",
      "metadata": {},
      "execution_count": null,
      "outputs": [],
      "source": "'__name__' in globals()\n"
    },
    {
      "cell_type": "markdown",
      "metadata": {},
      "source": "**`hasattr`**\n"
    },
    {
      "cell_type": "code",
      "metadata": {},
      "execution_count": null,
      "outputs": [],
      "source": "hasattr('abc', 'upper')\n"
    },
    {
      "cell_type": "markdown",
      "metadata": {},
      "source": "**`hash`**\n"
    },
    {
      "cell_type": "code",
      "metadata": {},
      "execution_count": null,
      "outputs": [],
      "source": "hash('abc')\n"
    },
    {
      "cell_type": "markdown",
      "metadata": {},
      "source": "**`help`**\n"
    },
    {
      "cell_type": "code",
      "metadata": {},
      "execution_count": null,
      "outputs": [],
      "source": "# help(len) would print long docs; skipping in this demo cell.\n'demonstration-skipped'\n"
    },
    {
      "cell_type": "markdown",
      "metadata": {},
      "source": "**`hex`**\n"
    },
    {
      "cell_type": "code",
      "metadata": {},
      "execution_count": null,
      "outputs": [],
      "source": "hex(255)\n"
    },
    {
      "cell_type": "markdown",
      "metadata": {},
      "source": "**`id`**\n"
    },
    {
      "cell_type": "code",
      "metadata": {},
      "execution_count": null,
      "outputs": [],
      "source": "id(object())\n"
    },
    {
      "cell_type": "markdown",
      "metadata": {},
      "source": "**`input`**\n"
    },
    {
      "cell_type": "code",
      "metadata": {},
      "execution_count": null,
      "outputs": [],
      "source": "# interactive; cannot auto-run in a non-interactive cell.\n# name = input('Your name: ')\n'demonstration-skipped'\n"
    },
    {
      "cell_type": "markdown",
      "metadata": {},
      "source": "**`int`**\n"
    },
    {
      "cell_type": "code",
      "metadata": {},
      "execution_count": null,
      "outputs": [],
      "source": "int('42')\n"
    },
    {
      "cell_type": "markdown",
      "metadata": {},
      "source": "**`isinstance`**\n"
    },
    {
      "cell_type": "code",
      "metadata": {},
      "execution_count": null,
      "outputs": [],
      "source": "isinstance(3.14, float)\n"
    },
    {
      "cell_type": "markdown",
      "metadata": {},
      "source": "**`issubclass`**\n"
    },
    {
      "cell_type": "code",
      "metadata": {},
      "execution_count": null,
      "outputs": [],
      "source": "class A: pass\nclass B(A): pass\nissubclass(B, A)\n"
    },
    {
      "cell_type": "markdown",
      "metadata": {},
      "source": "**`iter`**\n"
    },
    {
      "cell_type": "code",
      "metadata": {},
      "execution_count": null,
      "outputs": [],
      "source": "it = iter([1,2,3]); next(it)\n"
    },
    {
      "cell_type": "markdown",
      "metadata": {},
      "source": "**`len`**\n"
    },
    {
      "cell_type": "code",
      "metadata": {},
      "execution_count": null,
      "outputs": [],
      "source": "len([1,2,3])\n"
    },
    {
      "cell_type": "markdown",
      "metadata": {},
      "source": "**`list`**\n"
    },
    {
      "cell_type": "code",
      "metadata": {},
      "execution_count": null,
      "outputs": [],
      "source": "list((1,2,3))\n"
    },
    {
      "cell_type": "markdown",
      "metadata": {},
      "source": "**`locals`**\n"
    },
    {
      "cell_type": "code",
      "metadata": {},
      "execution_count": null,
      "outputs": [],
      "source": "'locals' in locals()\n"
    },
    {
      "cell_type": "markdown",
      "metadata": {},
      "source": "**`map`**\n"
    },
    {
      "cell_type": "code",
      "metadata": {},
      "execution_count": null,
      "outputs": [],
      "source": "list(map(lambda x: x*2, [1,2,3]))\n"
    },
    {
      "cell_type": "markdown",
      "metadata": {},
      "source": "**`max`**\n"
    },
    {
      "cell_type": "code",
      "metadata": {},
      "execution_count": null,
      "outputs": [],
      "source": "max([3,1,2])\n"
    },
    {
      "cell_type": "markdown",
      "metadata": {},
      "source": "**`memoryview`**\n"
    },
    {
      "cell_type": "code",
      "metadata": {},
      "execution_count": null,
      "outputs": [],
      "source": "memoryview(b'AB')\n"
    },
    {
      "cell_type": "markdown",
      "metadata": {},
      "source": "**`min`**\n"
    },
    {
      "cell_type": "code",
      "metadata": {},
      "execution_count": null,
      "outputs": [],
      "source": "min([3,1,2])\n"
    },
    {
      "cell_type": "markdown",
      "metadata": {},
      "source": "**`next`**\n"
    },
    {
      "cell_type": "code",
      "metadata": {},
      "execution_count": null,
      "outputs": [],
      "source": "it = iter([10,20]); (next(it), next(it))\n"
    },
    {
      "cell_type": "markdown",
      "metadata": {},
      "source": "**`object`**\n"
    },
    {
      "cell_type": "code",
      "metadata": {},
      "execution_count": null,
      "outputs": [],
      "source": "object()\n"
    },
    {
      "cell_type": "markdown",
      "metadata": {},
      "source": "**`oct`**\n"
    },
    {
      "cell_type": "code",
      "metadata": {},
      "execution_count": null,
      "outputs": [],
      "source": "oct(64)\n"
    },
    {
      "cell_type": "markdown",
      "metadata": {},
      "source": "**`open`**\n"
    },
    {
      "cell_type": "code",
      "metadata": {},
      "execution_count": null,
      "outputs": [],
      "source": "# with open('temp.txt','w') as f:\n#     f.write('hi')\n'demonstration-skipped'\n"
    },
    {
      "cell_type": "markdown",
      "metadata": {},
      "source": "**`ord`**\n"
    },
    {
      "cell_type": "code",
      "metadata": {},
      "execution_count": null,
      "outputs": [],
      "source": "ord('A')\n"
    },
    {
      "cell_type": "markdown",
      "metadata": {},
      "source": "**`pow`**\n"
    },
    {
      "cell_type": "code",
      "metadata": {},
      "execution_count": null,
      "outputs": [],
      "source": "pow(2, 5)\n"
    },
    {
      "cell_type": "markdown",
      "metadata": {},
      "source": "**`print`**\n"
    },
    {
      "cell_type": "code",
      "metadata": {},
      "execution_count": null,
      "outputs": [],
      "source": "print('Hello from print')\n"
    },
    {
      "cell_type": "markdown",
      "metadata": {},
      "source": "**`property`**\n"
    },
    {
      "cell_type": "code",
      "metadata": {},
      "execution_count": null,
      "outputs": [],
      "source": "class P:\n    def __init__(self): self._x=0\n    @property\n    def x(self): return self._x\n    @x.setter\n    def x(self, v): self._x=v\np = P(); p.x = 5; p.x\n"
    },
    {
      "cell_type": "markdown",
      "metadata": {},
      "source": "**`range`**\n"
    },
    {
      "cell_type": "code",
      "metadata": {},
      "execution_count": null,
      "outputs": [],
      "source": "range(3)\n"
    },
    {
      "cell_type": "markdown",
      "metadata": {},
      "source": "**`repr`**\n"
    },
    {
      "cell_type": "code",
      "metadata": {},
      "execution_count": null,
      "outputs": [],
      "source": "repr({'a':1})\n"
    },
    {
      "cell_type": "markdown",
      "metadata": {},
      "source": "**`reversed`**\n"
    },
    {
      "cell_type": "code",
      "metadata": {},
      "execution_count": null,
      "outputs": [],
      "source": "list(reversed([1,2,3]))\n"
    },
    {
      "cell_type": "markdown",
      "metadata": {},
      "source": "**`round`**\n"
    },
    {
      "cell_type": "code",
      "metadata": {},
      "execution_count": null,
      "outputs": [],
      "source": "round(3.14159, 2)\n"
    },
    {
      "cell_type": "markdown",
      "metadata": {},
      "source": "**`set`**\n"
    },
    {
      "cell_type": "code",
      "metadata": {},
      "execution_count": null,
      "outputs": [],
      "source": "set([1,2,2,3])\n"
    },
    {
      "cell_type": "markdown",
      "metadata": {},
      "source": "**`setattr`**\n"
    },
    {
      "cell_type": "code",
      "metadata": {},
      "execution_count": null,
      "outputs": [],
      "source": "class X: pass\nx = X(); setattr(x,'a',10); x.a\n"
    },
    {
      "cell_type": "markdown",
      "metadata": {},
      "source": "**`slice`**\n"
    },
    {
      "cell_type": "code",
      "metadata": {},
      "execution_count": null,
      "outputs": [],
      "source": "slice(1,5,2)\n"
    },
    {
      "cell_type": "markdown",
      "metadata": {},
      "source": "**`sorted`**\n"
    },
    {
      "cell_type": "code",
      "metadata": {},
      "execution_count": null,
      "outputs": [],
      "source": "sorted([3,1,2])\n"
    },
    {
      "cell_type": "markdown",
      "metadata": {},
      "source": "**`staticmethod`**\n"
    },
    {
      "cell_type": "code",
      "metadata": {},
      "execution_count": null,
      "outputs": [],
      "source": "class S:\n    @staticmethod\n    def add(a,b): return a+b\nS.add(2,3)\n"
    },
    {
      "cell_type": "markdown",
      "metadata": {},
      "source": "**`str`**\n"
    },
    {
      "cell_type": "code",
      "metadata": {},
      "execution_count": null,
      "outputs": [],
      "source": "str(123)\n"
    },
    {
      "cell_type": "markdown",
      "metadata": {},
      "source": "**`sum`**\n"
    },
    {
      "cell_type": "code",
      "metadata": {},
      "execution_count": null,
      "outputs": [],
      "source": "sum([1,2,3])\n"
    },
    {
      "cell_type": "markdown",
      "metadata": {},
      "source": "**`super`**\n"
    },
    {
      "cell_type": "code",
      "metadata": {},
      "execution_count": null,
      "outputs": [],
      "source": "class A:\n    def f(self): return 'A'\nclass B(A):\n    def f(self): return super().f() + '->B'\nB().f()\n"
    },
    {
      "cell_type": "markdown",
      "metadata": {},
      "source": "**`tuple`**\n"
    },
    {
      "cell_type": "code",
      "metadata": {},
      "execution_count": null,
      "outputs": [],
      "source": "tuple([1,2,3])\n"
    },
    {
      "cell_type": "markdown",
      "metadata": {},
      "source": "**`type`**\n"
    },
    {
      "cell_type": "code",
      "metadata": {},
      "execution_count": null,
      "outputs": [],
      "source": "type('T', (), {})\n"
    },
    {
      "cell_type": "markdown",
      "metadata": {},
      "source": "**`vars`**\n"
    },
    {
      "cell_type": "code",
      "metadata": {},
      "execution_count": null,
      "outputs": [],
      "source": "class V: pass\nv = V(); v.a = 1; vars(v)\n"
    },
    {
      "cell_type": "markdown",
      "metadata": {},
      "source": "**`zip`**\n"
    },
    {
      "cell_type": "code",
      "metadata": {},
      "execution_count": null,
      "outputs": [],
      "source": "list(zip([1,2,3], ['a','b','c']))\n"
    }
  ],
  "metadata": {
    "kernelspec": {
      "display_name": "Python 3",
      "language": "python",
      "name": "python3"
    },
    "language_info": {
      "name": "python",
      "version": "3.12.7",
      "mimetype": "text/x-python",
      "file_extension": ".py"
    }
  },
  "nbformat": 4,
  "nbformat_minor": 5
}